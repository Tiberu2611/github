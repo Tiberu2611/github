{
  "nbformat": 4,
  "nbformat_minor": 0,
  "metadata": {
    "colab": {
      "name": "pandas1.ipynb",
      "provenance": [],
      "authorship_tag": "ABX9TyOtLMc/oXQ44GO3Ds3WlaMt",
      "include_colab_link": true
    },
    "kernelspec": {
      "name": "python3",
      "display_name": "Python 3"
    },
    "language_info": {
      "name": "python"
    }
  },
  "cells": [
    {
      "cell_type": "markdown",
      "metadata": {
        "id": "view-in-github",
        "colab_type": "text"
      },
      "source": [
        "<a href=\"https://colab.research.google.com/github/Tiberu2611/github/blob/master/pandas1.ipynb\" target=\"_parent\"><img src=\"https://colab.research.google.com/assets/colab-badge.svg\" alt=\"Open In Colab\"/></a>"
      ]
    },
    {
      "cell_type": "code",
      "source": [
        "import pandas as pd\n",
        "import numpy as np\n"
      ],
      "metadata": {
        "id": "GCOBRT9mMCb6"
      },
      "execution_count": 2,
      "outputs": []
    },
    {
      "cell_type": "markdown",
      "source": [
        "Câu 1: Khởi tạo 1 Series với giá trị rỗng"
      ],
      "metadata": {
        "id": "jH1pXB_7KvTs"
      }
    },
    {
      "cell_type": "code",
      "source": [
        "a = pd.Series()\n",
        "print(a)"
      ],
      "metadata": {
        "colab": {
          "base_uri": "https://localhost:8080/"
        },
        "id": "DYWiR9xIK00r",
        "outputId": "8c51b493-b62a-421e-f909-be6cf460d07d"
      },
      "execution_count": null,
      "outputs": [
        {
          "output_type": "stream",
          "name": "stdout",
          "text": [
            "Series([], dtype: float64)\n"
          ]
        },
        {
          "output_type": "stream",
          "name": "stderr",
          "text": [
            "/usr/local/lib/python3.7/dist-packages/ipykernel_launcher.py:1: DeprecationWarning: The default dtype for empty Series will be 'object' instead of 'float64' in a future version. Specify a dtype explicitly to silence this warning.\n",
            "  \"\"\"Entry point for launching an IPython kernel.\n"
          ]
        }
      ]
    },
    {
      "cell_type": "markdown",
      "source": [
        "Câu 2: Giả sử có 1 vector hàng a có kích thước (1x7) được biểu diễn trong NumPy, hãy tạo 1\n",
        "series tương ứng với các giá trị được sinh ngẫu nhiên."
      ],
      "metadata": {
        "id": "x3BBrOq9M6FC"
      }
    },
    {
      "cell_type": "code",
      "source": [
        "a = np.random.random(7)\n",
        "A = pd.Series(a)\n",
        "print(A)"
      ],
      "metadata": {
        "colab": {
          "base_uri": "https://localhost:8080/"
        },
        "id": "ZdtbARGiM8HC",
        "outputId": "5956a213-b72a-4002-a241-425434a75ec9"
      },
      "execution_count": null,
      "outputs": [
        {
          "output_type": "stream",
          "name": "stdout",
          "text": [
            "0    0.113669\n",
            "1    0.874543\n",
            "2    0.652730\n",
            "3    0.410806\n",
            "4    0.253402\n",
            "5    0.969236\n",
            "6    0.103969\n",
            "dtype: float64\n"
          ]
        }
      ]
    },
    {
      "cell_type": "markdown",
      "source": [
        "Câu 3: Giả sử có 1 vector hàng a có kích thước (1x7), hãy nhập các giá trị cho 7 phần tử này từ\n",
        "bàn phím và tạo series tương ứng."
      ],
      "metadata": {
        "id": "Pfgq-H_meAol"
      }
    },
    {
      "cell_type": "code",
      "source": [
        "a = []\n",
        "for i in range(0,7):\n",
        "    b = input(\"Nhap gia tri: \")\n",
        "    a.append(b)\n",
        "c = pd.Series(a)\n",
        "print(c)"
      ],
      "metadata": {
        "colab": {
          "base_uri": "https://localhost:8080/"
        },
        "id": "xljFJUdlTPjI",
        "outputId": "644b0cca-41dd-4acb-bf99-fce83cf73958"
      },
      "execution_count": null,
      "outputs": [
        {
          "output_type": "stream",
          "name": "stdout",
          "text": [
            "Nhap gia tri: 2\n",
            "Nhap gia tri: 5\n",
            "Nhap gia tri: 7\n",
            "Nhap gia tri: 3\n",
            "Nhap gia tri: 5\n",
            "Nhap gia tri: 9\n",
            "Nhap gia tri: 6\n",
            "0    2\n",
            "1    5\n",
            "2    7\n",
            "3    3\n",
            "4    5\n",
            "5    9\n",
            "6    6\n",
            "dtype: object\n"
          ]
        }
      ]
    },
    {
      "cell_type": "markdown",
      "source": [
        "Câu 4: Giả sử có 1 vector cột có kích thước (7x1) được biểu diễn trong NumPy, hãy tạo Series\n",
        "tương ứng."
      ],
      "metadata": {
        "id": "mPaOMD2JeJNm"
      }
    },
    {
      "cell_type": "code",
      "source": [
        "a = np.random.randint(1,10,size = (7,1))\n",
        "print(a)\n",
        "a1 = a.reshape(7,)\n",
        "d = pd.Series(a1 )\n",
        "print(d)"
      ],
      "metadata": {
        "colab": {
          "base_uri": "https://localhost:8080/"
        },
        "id": "GQgFxowIeOaF",
        "outputId": "76ed98e9-05c0-4618-ebcb-61cccb4766e7"
      },
      "execution_count": 3,
      "outputs": [
        {
          "output_type": "stream",
          "name": "stdout",
          "text": [
            "[[9]\n",
            " [5]\n",
            " [2]\n",
            " [3]\n",
            " [4]\n",
            " [3]\n",
            " [5]]\n",
            "0    9\n",
            "1    5\n",
            "2    2\n",
            "3    3\n",
            "4    4\n",
            "5    3\n",
            "6    5\n",
            "dtype: int64\n"
          ]
        }
      ]
    },
    {
      "cell_type": "markdown",
      "source": [
        "Câu 5: Chuyển đổi dữ liệu, hãy thực hiện các yêu cầu sau:\n",
        "- Chuyển 1 list thành 1 series\n",
        "- Chuyển 1 tuple thành 1 series\n",
        "- Chuyển 1 dictionary thành 1 series"
      ],
      "metadata": {
        "id": "jy2akQLAcnQ_"
      }
    },
    {
      "cell_type": "code",
      "source": [
        "a = [3, 6, 9, 4, 7]\n",
        "b = list((3, 6, 9, 4, 7))\n",
        "c = {1: 6, 2: 9 , 3: 7}\n",
        "n = pd.Series(a)\n",
        "m = pd.Series(b)\n",
        "p = pd.Series(c)\n",
        "print(n)\n",
        "print(m)\n",
        "print(p)"
      ],
      "metadata": {
        "colab": {
          "base_uri": "https://localhost:8080/"
        },
        "id": "jgGI_zH9csg2",
        "outputId": "d38de928-02c1-4c71-cc9c-db3bd4cd1c36"
      },
      "execution_count": null,
      "outputs": [
        {
          "output_type": "stream",
          "name": "stdout",
          "text": [
            "0    3\n",
            "1    6\n",
            "2    9\n",
            "3    4\n",
            "4    7\n",
            "dtype: int64\n",
            "0    3\n",
            "1    6\n",
            "2    9\n",
            "3    4\n",
            "4    7\n",
            "dtype: int64\n",
            "1    6\n",
            "2    9\n",
            "3    7\n",
            "dtype: int64\n"
          ]
        }
      ]
    },
    {
      "cell_type": "markdown",
      "source": [
        "Câu 6: Mỗi phần tử của series đều gắn liền với các chỉ số (index) tương ứng, hãy tạo một series\n",
        "có kích thước (1x20) với giá trị ngẫu nhiên:\n",
        "- Xuất series ra màn hình\n",
        "- Xuất các chỉ số của series ra màn hình\n",
        "- Thay đổi cách đánh chỉ số mặc định của series từ đánh chỉ số bằng số nguyên sang các kiểu\n",
        "đánh chỉ số bằng label và in kết quả ra màn hình\n",
        "Gợi ý:\n",
        "- Hàm loc() dùng cho chỉ số label\n",
        "- Hàm iloc() dùng cho chỉ số đạng số nguyên\n",
        "- Hàm ix(): dùng cho cả 2 loại chỉ số trên"
      ],
      "metadata": {
        "id": "F5clEgnWgJCy"
      }
    },
    {
      "cell_type": "code",
      "source": [
        "import random\n",
        "a = []\n",
        "for i in range(0,20):\n",
        "    b = random.randint(0,40)\n",
        "    a.append(b)\n",
        "n = pd.Series(a)\n",
        "print(n)\n",
        "for i in range(0,20):\n",
        "    print(a[i])\n",
        "c = pd.Series(a, index = [\"a\", \"b\", \"c\", \"d\", \"e\", \"f\", \"g\", \"h\", \"i\", \"j\", \"k\", \"l\", \"m\", \"n\", \"o\", \"p\", \"q\", \"r\", \"s\", \"t\"])\n",
        "print(c)"
      ],
      "metadata": {
        "colab": {
          "base_uri": "https://localhost:8080/"
        },
        "id": "YZrZ1P2igwOW",
        "outputId": "3fdc199e-e741-482f-bd85-bcb030b7b721"
      },
      "execution_count": null,
      "outputs": [
        {
          "output_type": "stream",
          "name": "stdout",
          "text": [
            "0     14\n",
            "1     13\n",
            "2      1\n",
            "3     32\n",
            "4     36\n",
            "5     16\n",
            "6     33\n",
            "7      4\n",
            "8     28\n",
            "9     16\n",
            "10    39\n",
            "11     7\n",
            "12    21\n",
            "13    17\n",
            "14    34\n",
            "15    24\n",
            "16    39\n",
            "17    15\n",
            "18    11\n",
            "19    33\n",
            "dtype: int64\n",
            "14\n",
            "13\n",
            "1\n",
            "32\n",
            "36\n",
            "16\n",
            "33\n",
            "4\n",
            "28\n",
            "16\n",
            "39\n",
            "7\n",
            "21\n",
            "17\n",
            "34\n",
            "24\n",
            "39\n",
            "15\n",
            "11\n",
            "33\n",
            "a    14\n",
            "b    13\n",
            "c     1\n",
            "d    32\n",
            "e    36\n",
            "f    16\n",
            "g    33\n",
            "h     4\n",
            "i    28\n",
            "j    16\n",
            "k    39\n",
            "l     7\n",
            "m    21\n",
            "n    17\n",
            "o    34\n",
            "p    24\n",
            "q    39\n",
            "r    15\n",
            "s    11\n",
            "t    33\n",
            "dtype: int64\n"
          ]
        }
      ]
    },
    {
      "cell_type": "markdown",
      "source": [
        "Câu 7: Giả sử có series có kích thước (1x10), giá trị ngẫu nhiên, index được đánh từ ‘a’ trở đi,\n",
        "hãy:\n",
        "- Trích xuất các phần tử của Series có chỉ số là ‘a’, ‘c’, ‘e’\n",
        "- Trích xuất các phần tử của Series có chỉ số từ 3 đến 6"
      ],
      "metadata": {
        "id": "qjvxJoQ4jjiU"
      }
    },
    {
      "cell_type": "code",
      "source": [
        "from string import ascii_lowercase\n",
        "import random\n",
        "a = []\n",
        "m = []\n",
        "for c in ascii_lowercase:\n",
        "    a.append(c)\n",
        "    if c == \"j\":\n",
        "        break\n",
        "for i in range(0,10):\n",
        "    b = random.randint(0,40)\n",
        "    m.append(b)\n",
        "n = pd.Series(m, index = a)\n",
        "print(n)\n",
        "for i in range(0, len(a)+1):\n",
        "    if (i == 0) or (i == 2) or (i == 4):\n",
        "        print(m[i])\n",
        "for i in range(0, len(a)+1):\n",
        "    if (i == 3) or (i == 4) or (i == 5) or (i == 6):\n",
        "        print(m[i])"
      ],
      "metadata": {
        "colab": {
          "base_uri": "https://localhost:8080/"
        },
        "id": "dvi_ayc2kEMo",
        "outputId": "d1e55c48-9125-4d10-81eb-72ffb87e8e9b"
      },
      "execution_count": null,
      "outputs": [
        {
          "output_type": "stream",
          "name": "stdout",
          "text": [
            "a    29\n",
            "b     5\n",
            "c    30\n",
            "d    36\n",
            "e     3\n",
            "f    36\n",
            "g    37\n",
            "h     1\n",
            "i     3\n",
            "j    25\n",
            "dtype: int64\n",
            "36\n",
            "3\n",
            "36\n",
            "37\n"
          ]
        }
      ]
    }
  ]
}