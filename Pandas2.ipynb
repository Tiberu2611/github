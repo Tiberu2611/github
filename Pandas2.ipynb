{
  "cells": [
    {
      "cell_type": "markdown",
      "metadata": {
        "id": "view-in-github",
        "colab_type": "text"
      },
      "source": [
        "<a href=\"https://colab.research.google.com/github/Tiberu2611/github/blob/master/Pandas2.ipynb\" target=\"_parent\"><img src=\"https://colab.research.google.com/assets/colab-badge.svg\" alt=\"Open In Colab\"/></a>"
      ]
    },
    {
      "cell_type": "code",
      "execution_count": 14,
      "metadata": {
        "id": "PN3RTsigv8y3"
      },
      "outputs": [],
      "source": [
        "import pandas as pd\n",
        "import numpy as np\n"
      ]
    },
    {
      "cell_type": "markdown",
      "metadata": {
        "id": "Y9PwiH7iwDMq"
      },
      "source": [
        "Câu 1: Tạo các Series với kích thước 1x10 thỏa mãn yêu cầu:\n",
        "- Series 1: có tên là “Họ và tên” và dữ liệu (định tính) do bạn tự nhập vào\n",
        "- Series 2: có tên là “Ngày sinh” & dữ liệu do bạn tự nhập vào\n",
        "- Series 3: có tên là “Tiền công/h” có dữ liệu định lượng do bạn tự nhập\n",
        "- Series 4: có tên là “Số h công” có dữ liệu định lượng do bạn tự nhập\n",
        "- Series 5: có tên là “Thực lĩnh” có kích thước 1x10 và để trống\n",
        "Hãy:\n",
        "- Tạo 1 dataframe bằng cách ghép các series trên lại với nhau\n",
        "- Hãy tính giá trị cho cột (column) “Thực lĩnh” theo công thức:\n",
        "        Thực lĩnh = “Số h công” x “Tiền công/h”\n",
        "\n",
        "- Hãy in toàn bộ dataframe ở trên ra màn hình"
      ]
    },
    {
      "cell_type": "code",
      "execution_count": 15,
      "metadata": {
        "colab": {
          "base_uri": "https://localhost:8080/"
        },
        "id": "LnBqkLNnwHjb",
        "outputId": "e573bcbb-9d61-462c-d55c-16bb0e4953e0"
      },
      "outputs": [
        {
          "output_type": "stream",
          "name": "stdout",
          "text": [
            "[126, 243, 200, 171, 224, 178.5, 204, 182, 315, 270]\n",
            "   Họ & Tên   Ngày sinh  Lương theo giờ  Giờ làm  Lương\n",
            "0     270.0  12/10/1998               7     18.0  126.0\n",
            "1       NaN   15/7/1997               9     27.0  243.0\n",
            "2       NaN    3/8/1992               8     25.0  200.0\n",
            "3       NaN   27/5/1987               9     19.0  171.0\n",
            "4       NaN   30/3/1993               8     28.0  224.0\n",
            "5       NaN    7/8/1995               7     25.5  178.5\n",
            "6       NaN    6/4/1994               6     34.0  204.0\n",
            "7       NaN    8/3/1992               7     26.0  182.0\n",
            "8       NaN  23/11/1989               9     35.0  315.0\n",
            "9       NaN  18/11/1996              10     27.0  270.0\n"
          ]
        }
      ],
      "source": [
        "a = [\"Nguyễn Khoa\", \"Hoàng Trí\", \"Lê Tấn\", \"Nguyễn Hữu\", \"Trần Khải\", \"Lê Quỳnh Trang\", \"Trần Đức Minh\", \"Lê Duy Khánh\", \"Nguyễn Linh\", \"Trần Phi Kỳ\"]\n",
        "b = [\"12/10/1998\", \"15/7/1997\", \"3/8/1992\", \"27/5/1987\", \"30/3/1993\", \"7/8/1995\", \"6/4/1994\", \"8/3/1992\", \"23/11/1989\", \"18/11/1996\"]\n",
        "c = [7, 9, 8, 9, 8, 7, 6, 7, 9, 10]\n",
        "d = [18, 27, 25 , 19, 28, 25.5, 34, 26, 35, 27]\n",
        "f = []\n",
        "for i in range(0, len(c)):\n",
        "    a = c[i]*d[i]\n",
        "    f.append(a)\n",
        "name = pd.Series(a, name=\"Họ & Tên\")\n",
        "birthday = pd.Series(b, name = \"Ngày sinh\")\n",
        "salaryh = pd.Series(c, name = \"Lương theo giờ\")\n",
        "workh = pd.Series(d, name = \"Giờ làm\")\n",
        "salary = pd.Series(f, name = \"Lương\")\n",
        "name1 = pd.DataFrame(name)\n",
        "print(f)\n",
        "n = pd.concat([name, birthday, salaryh, workh, salary], axis=1)\n",
        "print(n)"
      ]
    },
    {
      "cell_type": "markdown",
      "metadata": {
        "id": "Gy1HXqwjx7P6"
      },
      "source": [
        "Câu 2: Khởi tạo dataframe bằng các phương pháp khác nhau, hãy:\n",
        "- Tạo dataframe có kích thước 10x3 từ cấu trúc list tương ứng, với dữ liệu cho dataframe\n",
        "này gồm các cột Họ tên, Tuổi và Giới tính. Xuất kết quả ra màn hình;"
      ]
    },
    {
      "cell_type": "code",
      "execution_count": 17,
      "metadata": {
        "colab": {
          "base_uri": "https://localhost:8080/"
        },
        "id": "I5Ra4EnoyA5T",
        "outputId": "2790b63b-a8c1-456b-d5f5-efdb750a4b21"
      },
      "outputs": [
        {
          "output_type": "stream",
          "name": "stdout",
          "text": [
            "              Tên tuổi Giới Tính\n",
            "0     Nguyễn Khoa   18       Nam\n",
            "1       Hoàng Trí   22       Nam\n",
            "2          Lê Tấn   19       Nam\n",
            "3      Nguyễn Hữu   19       Nam\n",
            "4       Trần Khải   18       Nam\n",
            "5  Lê Quỳnh Trang   20        Nữ\n",
            "6   Trần Đức Minh   23       Nam\n",
            "7    Lê Duy Khánh   25       Nam\n",
            "8     Nguyễn Linh   21        Nữ\n",
            "9     Trần Phi Kỳ   20       Nam\n"
          ]
        }
      ],
      "source": [
        "a = [[\"Nguyễn Khoa\", \"Hoàng Trí\", \"Lê Tấn\", \"Nguyễn Hữu\", \"Trần Khải\", \"Lê Quỳnh Trang\", \"Trần Đức Minh\", \"Lê Duy Khánh\", \"Nguyễn Linh\", \"Trần Phi Kỳ\"],\n",
        "     [18, 22, 19, 19, 18, 20, 23, 25, 21, 20], [\"Nam\", \"Nam\", \"Nam\", \"Nam\", \"Nam\", \"Nữ\", \"Nam\", \"Nam\", \"Nữ\", \"Nam\"]]\n",
        "b = np.array(a)\n",
        "b1 = np.transpose(b)\n",
        "a1 = pd.DataFrame(b1, columns = [\"Tên\", \"tuổi\", \"Giới Tính\"])\n",
        "print(a1)"
      ]
    },
    {
      "cell_type": "markdown",
      "source": [
        "- Tạo dataframe như trên nhưng từ cấu trúc Dictionary có chứa các List giá trị tương ứng\n",
        "với key. Xuất kết quả ra màn hình;"
      ],
      "metadata": {
        "id": "3kWge0gTzR3_"
      }
    },
    {
      "cell_type": "code",
      "source": [
        "a = {\"tên\": [\"Nguyễn Khoa\", \"Hoàng Trí\", \"Lê Tấn\", \"Nguyễn Hữu\", \"Trần Khải\", \"Lê Quỳnh Trang\", \"Trần Đức Minh\", \"Lê Duy Khánh\", \"Nguyễn Linh\", \"Trần Phi Kỳ\"],\n",
        "     \"tuổi\": [18, 22, 19, 19, 18, 20, 23, 25, 21, 20], \n",
        "     \"giới tính\": [\"Nam\", \"Nam\", \"Nam\", \"Nam\", \"Nam\", \"Nữ\", \"Nam\", \"Nam\", \"Nữ\", \"Nam\"]}\n",
        "n = pd.DataFrame(a)\n",
        "print(n)"
      ],
      "metadata": {
        "colab": {
          "base_uri": "https://localhost:8080/"
        },
        "id": "qIrvcxR0zSTW",
        "outputId": "e8ae8810-4ef0-441a-8d99-151d0f19929c"
      },
      "execution_count": 18,
      "outputs": [
        {
          "output_type": "stream",
          "name": "stdout",
          "text": [
            "              tên  tuổi giới tính\n",
            "0     Nguyễn Khoa    18       Nam\n",
            "1       Hoàng Trí    22       Nam\n",
            "2          Lê Tấn    19       Nam\n",
            "3      Nguyễn Hữu    19       Nam\n",
            "4       Trần Khải    18       Nam\n",
            "5  Lê Quỳnh Trang    20        Nữ\n",
            "6   Trần Đức Minh    23       Nam\n",
            "7    Lê Duy Khánh    25       Nam\n",
            "8     Nguyễn Linh    21        Nữ\n",
            "9     Trần Phi Kỳ    20       Nam\n"
          ]
        }
      ]
    },
    {
      "cell_type": "markdown",
      "source": [
        "- Tạo dataframe như trên nhưng từ cấu trúc List của các dictionary. Xuất kết quả ra màn\n",
        "hình;"
      ],
      "metadata": {
        "id": "ckB7Rxf1zqFN"
      }
    },
    {
      "cell_type": "code",
      "source": [
        "a = [{\"Tên\":\"Nguyễn Khoa\", \"Tuổi\":18, \"Giới tính\": \"Nam\"},\n",
        "     {\"Tên\": \"Hoàng Trí\", \"Tuổi\":22, \"Giới tính\": \"Nam\"},\n",
        "     {\"Tên\":\"Lê Tấn\", \"Tuổi\":19, \"Giới tính\": \"Nam\"},\n",
        "     {\"Tên\": \"Nguyễn Hữu\", \"Tuổi\":19, \"Giới tính\": \"Nam\"},\n",
        "     {\"Tên\":\"Trần Khải\", \"Tuổi\":18, \"Giới tính\": \"Nam\"},\n",
        "     {\"Tên\":\"Lê Quỳnh Trang\", \"Tuổi\":20, \"Giới tính\": \"Nữ\"},\n",
        "     {\"Tên\":\"Trần Đức Minh\", \"Tuổi\":23, \"Giới tính\": \"Nam\"},\n",
        "     {\"Tên\":\"Lê Duy Khánh\", \"Tuổi\":25, \"Giới tính\": \"Nam\"},\n",
        "     {\"Tên\":\"Nguyễn Linh\", \"Tuổi\":21, \"Giới tính\": \"Nữ\"},\n",
        "     {\"Tên\":\"Trần Phi Kỳ\", \"Tuổi\":20, \"Giới tính\": \"Nam\"}]\n",
        "n = pd.DataFrame(a)\n",
        "print(n)"
      ],
      "metadata": {
        "colab": {
          "base_uri": "https://localhost:8080/"
        },
        "id": "Q7RkaPNQzpgr",
        "outputId": "e1fa537b-37aa-4c2e-a4ed-e52ca7836957"
      },
      "execution_count": 19,
      "outputs": [
        {
          "output_type": "stream",
          "name": "stdout",
          "text": [
            "              Tên  Tuổi Giới tính\n",
            "0     Nguyễn Khoa    18       Nam\n",
            "1       Hoàng Trí    22       Nam\n",
            "2          Lê Tấn    19       Nam\n",
            "3      Nguyễn Hữu    19       Nam\n",
            "4       Trần Khải    18       Nam\n",
            "5  Lê Quỳnh Trang    20        Nữ\n",
            "6   Trần Đức Minh    23       Nam\n",
            "7    Lê Duy Khánh    25       Nam\n",
            "8     Nguyễn Linh    21        Nữ\n",
            "9     Trần Phi Kỳ    20       Nam\n"
          ]
        }
      ]
    },
    {
      "cell_type": "markdown",
      "source": [
        "- Tạo 3 list (1x10) tương ứng với Họ tên, Tuổi và Giới tính. Sử dụng hàm zip() để tạo\n",
        "dataframe từ 3 list riêng biệt này. Xuất kết quả ra màn hình.\n"
      ],
      "metadata": {
        "id": "GcFoez9v0Tiq"
      }
    },
    {
      "cell_type": "code",
      "source": [
        "a = [\"Nguyễn Khoa\", \"Hoàng Trí\", \"Lê Tấn\", \"Nguyễn Hữu\", \"Trần Khải\", \"Lê Quỳnh Trang\", \"Trần Đức Minh\", \"Lê Duy Khánh\", \"Nguyễn Linh\", \"Trần Phi Kỳ\"]\n",
        "b = [18, 22, 19, 19, 18, 20, 23, 25, 21, 20]\n",
        "c = [\"Nam\", \"Nam\", \"Nam\", \"Nam\", \"Nam\", \"Nữ\", \"Nam\", \"Nam\", \"Nữ\", \"Nam\"]\n",
        "d = list(zip(a, b, c))\n",
        "d1 = pd.DataFrame(d, columns = [\"Tên\", \"Tuổi\", \"Giới tính\"])\n",
        "print(d1)"
      ],
      "metadata": {
        "colab": {
          "base_uri": "https://localhost:8080/"
        },
        "id": "psXaXW2t0WPN",
        "outputId": "74d0883c-1eaf-4716-e66c-a60872ad3054"
      },
      "execution_count": 20,
      "outputs": [
        {
          "output_type": "stream",
          "name": "stdout",
          "text": [
            "              Tên  Tuổi Giới tính\n",
            "0     Nguyễn Khoa    18       Nam\n",
            "1       Hoàng Trí    22       Nam\n",
            "2          Lê Tấn    19       Nam\n",
            "3      Nguyễn Hữu    19       Nam\n",
            "4       Trần Khải    18       Nam\n",
            "5  Lê Quỳnh Trang    20        Nữ\n",
            "6   Trần Đức Minh    23       Nam\n",
            "7    Lê Duy Khánh    25       Nam\n",
            "8     Nguyễn Linh    21        Nữ\n",
            "9     Trần Phi Kỳ    20       Nam\n"
          ]
        }
      ]
    }
  ],
  "metadata": {
    "colab": {
      "name": "Pandas2.ipynb",
      "provenance": [],
      "authorship_tag": "ABX9TyN5c05kSYxjNOHkII1MoKUJ",
      "include_colab_link": true
    },
    "kernelspec": {
      "display_name": "Python 3",
      "name": "python3"
    },
    "language_info": {
      "name": "python"
    }
  },
  "nbformat": 4,
  "nbformat_minor": 0
}