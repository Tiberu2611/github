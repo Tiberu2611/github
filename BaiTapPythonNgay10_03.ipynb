{
  "nbformat": 4,
  "nbformat_minor": 0,
  "metadata": {
    "colab": {
      "name": "BaiTapPythonNgay10-03.ipynb",
      "provenance": [],
      "authorship_tag": "ABX9TyNVJitYm2muIZvWw6UVHgCX",
      "include_colab_link": true
    },
    "kernelspec": {
      "name": "python3",
      "display_name": "Python 3"
    },
    "language_info": {
      "name": "python"
    }
  },
  "cells": [
    {
      "cell_type": "markdown",
      "metadata": {
        "id": "view-in-github",
        "colab_type": "text"
      },
      "source": [
        "<a href=\"https://colab.research.google.com/github/Tiberu2611/github/blob/master/BaiTapPythonNgay10_03.ipynb\" target=\"_parent\"><img src=\"https://colab.research.google.com/assets/colab-badge.svg\" alt=\"Open In Colab\"/></a>"
      ]
    },
    {
      "cell_type": "markdown",
      "source": [
        "Bài làm: để tính toán ước lượng khoảng ta dùng thư viện scipy và trong đó để ước lượng được khoảng:"
      ],
      "metadata": {
        "id": "DeD-4CbOF5Z0"
      }
    },
    {
      "cell_type": "code",
      "execution_count": 23,
      "metadata": {
        "id": "p6bAFItr_Y7R"
      },
      "outputs": [],
      "source": [
        "import numpy as np\n",
        "import scipy.stats as st\n",
        " \n",
        " \n",
        "def mean_confidence_interval(data, confidence=0.95):\n",
        "    a = 1.0 * np.array(data)\n",
        "    n = len(a)\n",
        "    m, se = np.mean(a), scipy.stats.sem(a)\n",
        "    h = se * st.t.ppf((1 + confidence) / 2., n-1)\n",
        "    return m, m-h, m+h"
      ]
    },
    {
      "cell_type": "markdown",
      "source": [
        "bài toán cho giá trị của a từ -41 đến 79"
      ],
      "metadata": {
        "id": "79I9yxV4Gs8q"
      }
    },
    {
      "cell_type": "code",
      "source": [
        "a = range(-41,80)"
      ],
      "metadata": {
        "id": "M1OhBnykBlxy"
      },
      "execution_count": 24,
      "outputs": []
    },
    {
      "cell_type": "markdown",
      "source": [
        "hiển thị giá trị trung vị của a và tìm ra hai khoảng giá trị ước lượng "
      ],
      "metadata": {
        "id": "6jrMSKgGGshv"
      }
    },
    {
      "cell_type": "code",
      "source": [
        "mean_confidence_interval(a)"
      ],
      "metadata": {
        "colab": {
          "base_uri": "https://localhost:8080/"
        },
        "id": "7a9267nBDhfw",
        "outputId": "a9da3df2-dc71-4435-9ef0-64d7238e7600"
      },
      "execution_count": 25,
      "outputs": [
        {
          "output_type": "execute_result",
          "data": {
            "text/plain": [
              "(19.0, 12.686950169952198, 25.313049830047802)"
            ]
          },
          "metadata": {},
          "execution_count": 25
        }
      ]
    }
  ]
}