{
  "nbformat": 4,
  "nbformat_minor": 0,
  "metadata": {
    "colab": {
      "name": "Numpy3.ipynb",
      "provenance": [],
      "authorship_tag": "ABX9TyMvgGdoJKhBMd+PBq5KKpLj",
      "include_colab_link": true
    },
    "kernelspec": {
      "name": "python3",
      "display_name": "Python 3"
    },
    "language_info": {
      "name": "python"
    }
  },
  "cells": [
    {
      "cell_type": "markdown",
      "metadata": {
        "id": "view-in-github",
        "colab_type": "text"
      },
      "source": [
        "<a href=\"https://colab.research.google.com/github/Tiberu2611/github/blob/master/Numpy3.ipynb\" target=\"_parent\"><img src=\"https://colab.research.google.com/assets/colab-badge.svg\" alt=\"Open In Colab\"/></a>"
      ]
    },
    {
      "cell_type": "code",
      "execution_count": null,
      "metadata": {
        "id": "iEvTXK5nvxBE"
      },
      "outputs": [],
      "source": [
        "import numpy as np\n"
      ]
    },
    {
      "cell_type": "markdown",
      "source": [
        "Câu 1: Hãy trình bày cú pháp của hàm apply_along_axis() và ý nghĩa của từng tham số của hàm\n",
        "này."
      ],
      "metadata": {
        "id": "7MSr-_eA3Rgo"
      }
    },
    {
      "cell_type": "markdown",
      "source": [
        "cú pháp của hàm apply_along_axis() là numpy.apply_along_axis(func1d, axis, arr, *args, **kwargs) \n",
        "trong đó  \n",
        "\n",
        "*   func1d là hàm chấp nhận mảng 1 chiều \n",
        "*   axis là trục mà mảng bị cắt\n",
        "*   args là đối số bổ xung hàm func1d \n",
        "*   kwargs là các đối số được đặt tên bổ sung cho func1d"
      ],
      "metadata": {
        "id": "Iv0ieANg4-OT"
      }
    },
    {
      "cell_type": "markdown",
      "source": [
        "Câu 2: Tạo một ma trận A15x17 có giá trị ngẫu nhiên"
      ],
      "metadata": {
        "id": "CPVOmgz744Sw"
      }
    },
    {
      "cell_type": "code",
      "source": [
        "A = np.random.randint(1,20, size = (15,17))\n",
        "print(A)"
      ],
      "metadata": {
        "colab": {
          "base_uri": "https://localhost:8080/"
        },
        "id": "NURfqICMwR9q",
        "outputId": "e6868d95-757a-4f72-83e9-e1a83b40f535"
      },
      "execution_count": null,
      "outputs": [
        {
          "output_type": "stream",
          "name": "stdout",
          "text": [
            "[[ 5 13  4  5 12 16 13  1  4 13 15  8  2 10  3  9  4]\n",
            " [17  2 13 10 14  6  3 15 19  9  2  7 18 15 17 11 15]\n",
            " [ 3 18  2  2 10 15 19 11 17  1  2  1 13 19 14 14  5]\n",
            " [18  9  9  8  8 10 16 11  4  1  1  2  2  4  3 15 10]\n",
            " [10  2  4  7 17 18  1  2 19  9 14 17 17 13  8 17 13]\n",
            " [18  4  9 14 19 16 19  4 16 18  4  2  3  6 15 16 19]\n",
            " [11 12  9  1  8  5  6  2 15  5 18 14 10 11 17 10 16]\n",
            " [12 12  2 15  7 13 14 15 16  8  8  9  4  5  4 10  2]\n",
            " [ 2 18 14 14  8  6 12  9 10  1  7 15  9 13  4 16  1]\n",
            " [10  4 18 11  1  3 19  9  2  5 11  8 13  8  5 17 13]\n",
            " [18 18 11  5 12 10  1 10  8 18 15 12 10 14 15  7 18]\n",
            " [ 6 12  6  7 10 15 18  3  8 11 16  7 18  6 11 16 14]\n",
            " [ 3 18 14  8 16 11 15  9 17  1  1 17 18 12 19 19  5]\n",
            " [ 8 17 18 12 12  5  5 19  6  2 16 14  1  2  3 18  3]\n",
            " [17 11 19  2 17 10 16 16  8 17 11 18 19 14 13 19 14]]\n"
          ]
        }
      ]
    },
    {
      "cell_type": "markdown",
      "source": [
        "Bài 3 Xây dựng hàm tìm giá trị lớn nhất có tên là tim_gia_tri_lon_nhat(vector_a) có tham số\n",
        "đầu vào là 1 vector a và giá trị trả về là giá trị phần tử lớn nhất của vector này. Áp dụng hàm này\n",
        "theo từng hàng của ma trận A ở Câu 1 và xuất kết quả ra màn hình."
      ],
      "metadata": {
        "id": "a7DrSCSz3LC4"
      }
    },
    {
      "cell_type": "code",
      "source": [
        "tim_gia_tri_lon_nhat = np.apply_along_axis(max, 1, A)\n",
        "print(tim_gia_tri_lon_nhat)"
      ],
      "metadata": {
        "colab": {
          "base_uri": "https://localhost:8080/"
        },
        "id": "z330ryaLwl5S",
        "outputId": "02fae56c-23d9-439e-e36b-0144b81fda95"
      },
      "execution_count": null,
      "outputs": [
        {
          "output_type": "stream",
          "name": "stdout",
          "text": [
            "[16 19 19 18 19 19 18 16 18 19 18 18 19 19 19]\n"
          ]
        }
      ]
    },
    {
      "cell_type": "markdown",
      "source": [
        "Câu 4: Xây dựng hàm tìm giá trị nhỏ nhất có tên là tim_gia_tri_nho_nhat(vector_a) có tham số\n",
        "đầu vào là 1 vector a và giá trị trả về là giá trị phần tử nhỏ nhất của vector này. Áp dụng hàm này\n",
        "theo từng cột của ma trận A ở Câu 1 và xuất kết quả ra màn hình."
      ],
      "metadata": {
        "id": "7WA6GA1Z335g"
      }
    },
    {
      "cell_type": "code",
      "source": [
        "tim_gia_tri_nho_nhat = np.apply_along_axis(min, 0,A)\n",
        "print(tim_gia_tri_nho_nhat)"
      ],
      "metadata": {
        "colab": {
          "base_uri": "https://localhost:8080/"
        },
        "id": "J9QgXx3A3J3q",
        "outputId": "2595d190-4e15-4de7-83c5-a3610973cdaf"
      },
      "execution_count": null,
      "outputs": [
        {
          "output_type": "stream",
          "name": "stdout",
          "text": [
            "[2 2 2 1 1 3 1 1 2 1 1 1 1 2 3 7 1]\n"
          ]
        }
      ]
    },
    {
      "cell_type": "markdown",
      "source": [
        "Câu 5: Xây dựng hàm tìm giá trị lớn nhất có tên là tinh_tong(vector_a) có tham số đầu vào là 1\n",
        "vector a và giá trị trả về là tổng các phần tử của vector này. Áp dụng hàm này theo từng hàng của\n",
        "ma trận A ở Câu 1 và xuất kết quả ra màn hình."
      ],
      "metadata": {
        "id": "PtrfGxDJzKp-"
      }
    },
    {
      "cell_type": "code",
      "source": [
        "tinh_tong = np.apply_along_axis(sum, 1, A)\n",
        "print(tinh_tong)"
      ],
      "metadata": {
        "colab": {
          "base_uri": "https://localhost:8080/"
        },
        "id": "fFrjAw5jzJxJ",
        "outputId": "bf8e6b90-ccbf-48ce-dc1f-1749e234e727"
      },
      "execution_count": null,
      "outputs": [
        {
          "output_type": "stream",
          "name": "stdout",
          "text": [
            "[137 193 166 131 188 202 170 156 159 157 202 184 203 161 241]\n"
          ]
        }
      ]
    },
    {
      "cell_type": "markdown",
      "source": [
        "Câu 6: Xây dựng hàm tìm giá trị lớn nhất có tên là tinh_tong_2(vector_a) có tham số đầu vào là\n",
        "1 vector a và giá trị trả về là tổng các phần tử có chỉ số lẻ (1 – 3 – 5 , .v.v.) của vector này. Áp\n",
        "dụng hàm này theo từng cột của ma trận A ở Câu 1 và xuất kết quả ra màn hình. Tiếp tục áp dụng\n",
        "hàm này theo từng hàng của ma trận A kể trên và xuất kết quả ra màn hình."
      ],
      "metadata": {
        "id": "ZVuUoe6XRDsh"
      }
    },
    {
      "cell_type": "code",
      "source": [
        "def tinh_tong2(A): \n",
        "    s = 0\n",
        "    for i in range(0,len(A)): \n",
        "        if i % 2 != 0: \n",
        "            s += A[i]\n",
        "    return s\n",
        "b = np.apply_along_axis(tinh_tong2, 0, A)\n",
        "print(b)\n",
        "c = np.apply_along_axis(tinh_tong2, 1, A)\n",
        "print(c)"
      ],
      "metadata": {
        "id": "ix1-o2y-RHZz",
        "colab": {
          "base_uri": "https://localhost:8080/"
        },
        "outputId": "1c7eba1a-81e6-41c1-be05-850a498e05f1"
      },
      "execution_count": null,
      "outputs": [
        {
          "output_type": "stream",
          "name": "stdout",
          "text": [
            "[ 89  60  75  77  71  68  94  76  71  54  58  49  59  46  58 103  76]\n",
            "[ 75  75  81  60  85  80  60  87  92  65  94  77  95  89 107]\n"
          ]
        }
      ]
    }
  ]
}