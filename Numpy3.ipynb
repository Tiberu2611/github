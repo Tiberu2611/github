{
  "nbformat": 4,
  "nbformat_minor": 0,
  "metadata": {
    "colab": {
      "name": "Numpy3.ipynb",
      "provenance": [],
      "authorship_tag": "ABX9TyOeQfs6FzsfFFQjivRVbjX0",
      "include_colab_link": true
    },
    "kernelspec": {
      "name": "python3",
      "display_name": "Python 3"
    },
    "language_info": {
      "name": "python"
    }
  },
  "cells": [
    {
      "cell_type": "markdown",
      "metadata": {
        "id": "view-in-github",
        "colab_type": "text"
      },
      "source": [
        "<a href=\"https://colab.research.google.com/github/Tiberu2611/github/blob/master/Numpy3.ipynb\" target=\"_parent\"><img src=\"https://colab.research.google.com/assets/colab-badge.svg\" alt=\"Open In Colab\"/></a>"
      ]
    },
    {
      "cell_type": "code",
      "execution_count": null,
      "metadata": {
        "id": "iEvTXK5nvxBE"
      },
      "outputs": [],
      "source": [
        "import numpy as np\n"
      ]
    },
    {
      "cell_type": "markdown",
      "source": [
        ""
      ],
      "metadata": {
        "id": "7MSr-_eA3Rgo"
      }
    },
    {
      "cell_type": "markdown",
      "source": [
        "Câu 2: Tạo một ma trận A15x17 có giá trị ngẫu nhiên"
      ],
      "metadata": {
        "id": "CPVOmgz744Sw"
      }
    },
    {
      "cell_type": "code",
      "source": [
        "A = np.random.randint(1,20, size = (15,17))\n",
        "print(A)"
      ],
      "metadata": {
        "colab": {
          "base_uri": "https://localhost:8080/"
        },
        "id": "NURfqICMwR9q",
        "outputId": "09ed956b-8346-4d0b-885e-5b23cb90c625"
      },
      "execution_count": null,
      "outputs": [
        {
          "output_type": "stream",
          "name": "stdout",
          "text": [
            "[[17 19  7  7  3  2  6 19 17  4  8  8 19  1  2  7  4]\n",
            " [17  2 12  1  5 16 18 10  7 15  5 15 14  8 14 12 14]\n",
            " [ 4 19 18 17  9  1  9 16  6 19  6 15  9 18 13 13 15]\n",
            " [17  1 16 12 19  1  4  7 11  4  3  7 17  7  1  3  4]\n",
            " [ 1 13 11  4 15  5  8  8  4 16  6 18  9  1 13  6  4]\n",
            " [11  8 17  4  2 13  4 10  6 12 16 10 13 14 11 16 19]\n",
            " [12  8  7 16  2 11 12 15 16 17 11  7 14  4 17 15  1]\n",
            " [ 3 16  7  7 17 15 12  4 14 13 19  6  1  9 12  5  1]\n",
            " [12  1  8  2 12  3 15  4 15  2 19 16  4 18  2  9 13]\n",
            " [12  2 15 19  9 13 16  8  4 16 11  4 17 11 18 15 19]\n",
            " [18  2  9 17  6 11  5  3 10  3 14 13 14  2  1  7 14]\n",
            " [13  8 13  6 12  9  1 17  2  1 13 11 18  4  3  5  5]\n",
            " [15 11  6  7  8  4 15 19  6  7 10  9  4 18 15 15 19]\n",
            " [10 17 10  1  5 16 12 12  8 11  9  3 19 14  1  3 12]\n",
            " [18 11 14 17 13  5  8  6 15  3 19 11 18  6 11  4  5]]\n"
          ]
        }
      ]
    },
    {
      "cell_type": "markdown",
      "source": [
        "Bài 3 Xây dựng hàm tìm giá trị lớn nhất có tên là tim_gia_tri_lon_nhat(vector_a) có tham số\n",
        "đầu vào là 1 vector a và giá trị trả về là giá trị phần tử lớn nhất của vector này. Áp dụng hàm này\n",
        "theo từng hàng của ma trận A ở Câu 1 và xuất kết quả ra màn hình."
      ],
      "metadata": {
        "id": "a7DrSCSz3LC4"
      }
    },
    {
      "cell_type": "code",
      "source": [
        "tim_gia_tri_lon_nhat = np.apply_along_axis(max, 1, A)\n",
        "print(tim_gia_tri_lon_nhat)"
      ],
      "metadata": {
        "colab": {
          "base_uri": "https://localhost:8080/"
        },
        "id": "z330ryaLwl5S",
        "outputId": "5977756c-b562-49ad-bcd5-2cf6503a19c7"
      },
      "execution_count": null,
      "outputs": [
        {
          "output_type": "stream",
          "name": "stdout",
          "text": [
            "[19 18 19 19 18 19 17 19 19 19 18 18 19 19 19]\n"
          ]
        }
      ]
    },
    {
      "cell_type": "markdown",
      "source": [
        "Câu 4: Xây dựng hàm tìm giá trị nhỏ nhất có tên là tim_gia_tri_nho_nhat(vector_a) có tham số\n",
        "đầu vào là 1 vector a và giá trị trả về là giá trị phần tử nhỏ nhất của vector này. Áp dụng hàm này\n",
        "theo từng cột của ma trận A ở Câu 1 và xuất kết quả ra màn hình."
      ],
      "metadata": {
        "id": "7WA6GA1Z335g"
      }
    },
    {
      "cell_type": "code",
      "source": [
        "tim_gia_tri_nho_nhat = np.apply_along_axis(min, 0,A)\n",
        "print(tim_gia_tri_nho_nhat)"
      ],
      "metadata": {
        "colab": {
          "base_uri": "https://localhost:8080/"
        },
        "id": "J9QgXx3A3J3q",
        "outputId": "21603ca1-4241-476d-d79a-9e28e4957718"
      },
      "execution_count": null,
      "outputs": [
        {
          "output_type": "stream",
          "name": "stdout",
          "text": [
            "[1 1 6 1 2 1 1 3 2 1 3 3 1 1 1 3 1]\n"
          ]
        }
      ]
    },
    {
      "cell_type": "markdown",
      "source": [
        "Câu 5: Xây dựng hàm tìm giá trị lớn nhất có tên là tinh_tong(vector_a) có tham số đầu vào là 1\n",
        "vector a và giá trị trả về là tổng các phần tử của vector này. Áp dụng hàm này theo từng hàng của\n",
        "ma trận A ở Câu 1 và xuất kết quả ra màn hình."
      ],
      "metadata": {
        "id": "PtrfGxDJzKp-"
      }
    },
    {
      "cell_type": "code",
      "source": [
        "tinh_tong = np.apply_along_axis(sum, 1, A)\n",
        "print(tinh_tong)"
      ],
      "metadata": {
        "colab": {
          "base_uri": "https://localhost:8080/"
        },
        "id": "fFrjAw5jzJxJ",
        "outputId": "b2756e21-50e0-4aa2-8218-b90c4baf6836"
      },
      "execution_count": null,
      "outputs": [
        {
          "output_type": "stream",
          "name": "stdout",
          "text": [
            "[150 185 207 134 142 186 185 161 155 209 149 141 188 163 184]\n"
          ]
        }
      ]
    },
    {
      "cell_type": "markdown",
      "source": [
        "Câu 6: Xây dựng hàm tìm giá trị lớn nhất có tên là tinh_tong_2(vector_a) có tham số đầu vào là\n",
        "1 vector a và giá trị trả về là tổng các phần tử có chỉ số lẻ (1 – 3 – 5 , .v.v.) của vector này. Áp\n",
        "dụng hàm này theo từng cột của ma trận A ở Câu 1 và xuất kết quả ra màn hình. Tiếp tục áp dụng\n",
        "hàm này theo từng hàng của ma trận A kể trên và xuất kết quả ra màn hình."
      ],
      "metadata": {
        "id": "ZVuUoe6XRDsh"
      }
    },
    {
      "cell_type": "code",
      "source": [
        ""
      ],
      "metadata": {
        "id": "ix1-o2y-RHZz"
      },
      "execution_count": null,
      "outputs": []
    }
  ]
}