{
  "nbformat": 4,
  "nbformat_minor": 0,
  "metadata": {
    "colab": {
      "provenance": [],
      "authorship_tag": "ABX9TyO3iSUbHkatw6Tx9gAP/XZ5",
      "include_colab_link": true
    },
    "kernelspec": {
      "name": "python3",
      "display_name": "Python 3"
    },
    "language_info": {
      "name": "python"
    }
  },
  "cells": [
    {
      "cell_type": "markdown",
      "metadata": {
        "id": "view-in-github",
        "colab_type": "text"
      },
      "source": [
        "<a href=\"https://colab.research.google.com/github/Tiberu2611/github/blob/master/Untitled14.ipynb\" target=\"_parent\"><img src=\"https://colab.research.google.com/assets/colab-badge.svg\" alt=\"Open In Colab\"/></a>"
      ]
    },
    {
      "cell_type": "code",
      "execution_count": 7,
      "metadata": {
        "colab": {
          "base_uri": "https://localhost:8080/"
        },
        "id": "ZvGcHafbed9b",
        "outputId": "2e47562c-5bb4-4088-aa72-f42cda3ca9c2"
      },
      "outputs": [
        {
          "output_type": "stream",
          "name": "stdout",
          "text": [
            "anh yeu em 0 % ❤\n",
            "anh yeu em 1 % ❤\n",
            "anh yeu em 2 % ❤\n",
            "anh yeu em 3 % ❤\n",
            "anh yeu em 4 % ❤\n",
            "anh yeu em 5 % ❤\n",
            "anh yeu em 6 % ❤\n",
            "anh yeu em 7 % ❤\n",
            "anh yeu em 8 % ❤\n",
            "anh yeu em 9 % ❤\n",
            "anh yeu em 10 % ❤\n",
            "anh yeu em 11 % ❤\n",
            "anh yeu em 12 % ❤\n",
            "anh yeu em 13 % ❤\n",
            "anh yeu em 14 % ❤\n",
            "anh yeu em 15 % ❤\n",
            "anh yeu em 16 % ❤\n",
            "anh yeu em 17 % ❤\n",
            "anh yeu em 18 % ❤\n",
            "anh yeu em 19 % ❤\n",
            "anh yeu em 20 % ❤\n",
            "anh yeu em 21 % ❤\n",
            "anh yeu em 22 % ❤\n",
            "anh yeu em 23 % ❤\n",
            "anh yeu em 24 % ❤\n",
            "anh yeu em 25 % ❤\n",
            "anh yeu em 26 % ❤\n",
            "anh yeu em 27 % ❤\n",
            "anh yeu em 28 % ❤\n",
            "anh yeu em 29 % ❤\n",
            "anh yeu em 30 % ❤\n",
            "anh yeu em 31 % ❤\n",
            "anh yeu em 32 % ❤\n",
            "anh yeu em 33 % ❤\n",
            "anh yeu em 34 % ❤\n",
            "anh yeu em 35 % ❤\n",
            "anh yeu em 36 % ❤\n",
            "anh yeu em 37 % ❤\n",
            "anh yeu em 38 % ❤\n",
            "anh yeu em 39 % ❤\n",
            "anh yeu em 40 % ❤\n",
            "anh yeu em 41 % ❤\n",
            "anh yeu em 42 % ❤\n",
            "anh yeu em 43 % ❤\n",
            "anh yeu em 44 % ❤\n",
            "anh yeu em 45 % ❤\n",
            "anh yeu em 46 % ❤\n",
            "anh yeu em 47 % ❤\n",
            "anh yeu em 48 % ❤\n",
            "anh yeu em 49 % ❤\n",
            "anh yeu em 50 % ❤\n",
            "anh yeu em 51 % ❤\n",
            "anh yeu em 52 % ❤\n",
            "anh yeu em 53 % ❤\n",
            "anh yeu em 54 % ❤\n",
            "anh yeu em 55 % ❤\n",
            "anh yeu em 56 % ❤\n",
            "anh yeu em 57 % ❤\n",
            "anh yeu em 58 % ❤\n",
            "anh yeu em 59 % ❤\n",
            "anh yeu em 60 % ❤\n",
            "anh yeu em 61 % ❤\n",
            "anh yeu em 62 % ❤\n",
            "anh yeu em 63 % ❤\n",
            "anh yeu em 64 % ❤\n",
            "anh yeu em 65 % ❤\n",
            "anh yeu em 66 % ❤\n",
            "anh yeu em 67 % ❤\n",
            "anh yeu em 68 % ❤\n",
            "anh yeu em 69 % ❤\n",
            "anh yeu em 70 % ❤\n",
            "anh yeu em 71 % ❤\n",
            "anh yeu em 72 % ❤\n",
            "anh yeu em 73 % ❤\n",
            "anh yeu em 74 % ❤\n",
            "anh yeu em 75 % ❤\n",
            "anh yeu em 76 % ❤\n",
            "anh yeu em 77 % ❤\n",
            "anh yeu em 78 % ❤\n",
            "anh yeu em 79 % ❤\n",
            "anh yeu em 80 % ❤\n",
            "anh yeu em 81 % ❤\n",
            "anh yeu em 82 % ❤\n",
            "anh yeu em 83 % ❤\n",
            "anh yeu em 84 % ❤\n",
            "anh yeu em 85 % ❤\n",
            "anh yeu em 86 % ❤\n",
            "anh yeu em 87 % ❤\n",
            "anh yeu em 88 % ❤\n",
            "anh yeu em 89 % ❤\n",
            "anh yeu em 90 % ❤\n",
            "anh yeu em 91 % ❤\n",
            "anh yeu em 92 % ❤\n",
            "anh yeu em 93 % ❤\n",
            "anh yeu em 94 % ❤\n",
            "anh yeu em 95 % ❤\n",
            "anh yeu em 96 % ❤\n",
            "anh yeu em 97 % ❤\n",
            "anh yeu em 98 % ❤\n",
            "anh yeu em 99 % ❤\n",
            "anh yeu em 100 % ❤\n"
          ]
        }
      ],
      "source": [
        "i = 1\n",
        "for i in range(0,101):\n",
        "  if i <= 101:\n",
        "    print(\"anh yeu em\" , i, \"% ❤\")\n"
      ]
    }
  ]
}