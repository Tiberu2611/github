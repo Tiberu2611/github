{
  "nbformat": 4,
  "nbformat_minor": 0,
  "metadata": {
    "colab": {
      "name": "Numpy2.ipynb",
      "provenance": [],
      "authorship_tag": "ABX9TyMKAJuDa4FKAll4iRM/X/6V",
      "include_colab_link": true
    },
    "kernelspec": {
      "name": "python3",
      "display_name": "Python 3"
    },
    "language_info": {
      "name": "python"
    }
  },
  "cells": [
    {
      "cell_type": "markdown",
      "metadata": {
        "id": "view-in-github",
        "colab_type": "text"
      },
      "source": [
        "<a href=\"https://colab.research.google.com/github/Tiberu2611/github/blob/master/Numpy2.ipynb\" target=\"_parent\"><img src=\"https://colab.research.google.com/assets/colab-badge.svg\" alt=\"Open In Colab\"/></a>"
      ]
    },
    {
      "cell_type": "code",
      "source": [
        "import numpy as np"
      ],
      "metadata": {
        "id": "MnxXw-8PPB0q"
      },
      "execution_count": 1,
      "outputs": []
    },
    {
      "cell_type": "markdown",
      "source": [
        "Bài 1: Sử dụng thư viện NumPy, hãy tạo ra một ma trận A ∈ R7×5, giá trị các phần tử của ma trận được sinh ngẫu nhiên. Kết quả xuất ra màn hình."
      ],
      "metadata": {
        "id": "QH8CN40qmSWJ"
      }
    },
    {
      "cell_type": "code",
      "execution_count": null,
      "metadata": {
        "colab": {
          "base_uri": "https://localhost:8080/"
        },
        "id": "lC8RJxW4mOQk",
        "outputId": "267b9d70-0e08-434d-ee91-3eecb8240021"
      },
      "outputs": [
        {
          "output_type": "stream",
          "name": "stdout",
          "text": [
            "[[4 6 2 4 8]\n",
            " [5 7 3 6 4]\n",
            " [6 6 2 5 1]\n",
            " [7 4 3 9 3]\n",
            " [2 4 8 2 4]\n",
            " [4 6 1 6 2]\n",
            " [4 5 8 3 9]]\n"
          ]
        }
      ],
      "source": [
        "A = np.random.randint(1,10, size = (7,5))\n",
        "print(A)"
      ]
    },
    {
      "cell_type": "markdown",
      "source": [
        "Bài 2 – Ma trận không (zero matrix): Ma trận Am×n được gọi là ma trận không khi ai,j = 0, ∀i,j. Sử dụng thư viện NumPy, hãy tạo một ma trận 0 - A6×7. Gợi ý: sử dụng hàm numpy.zeros((m,n)). Kết quả xuất ra màn hình."
      ],
      "metadata": {
        "id": "2NKHOSEhmnrs"
      }
    },
    {
      "cell_type": "code",
      "source": [
        "A = np.zeros((6,7))\n",
        "print(A)"
      ],
      "metadata": {
        "colab": {
          "base_uri": "https://localhost:8080/"
        },
        "id": "ZTY2JzuampA5",
        "outputId": "8c290bd7-3d4b-4b95-a071-47e814abe417"
      },
      "execution_count": null,
      "outputs": [
        {
          "output_type": "stream",
          "name": "stdout",
          "text": [
            "[[0. 0. 0. 0. 0. 0. 0.]\n",
            " [0. 0. 0. 0. 0. 0. 0.]\n",
            " [0. 0. 0. 0. 0. 0. 0.]\n",
            " [0. 0. 0. 0. 0. 0. 0.]\n",
            " [0. 0. 0. 0. 0. 0. 0.]\n",
            " [0. 0. 0. 0. 0. 0. 0.]]\n"
          ]
        }
      ]
    },
    {
      "cell_type": "markdown",
      "source": [
        "Bài 3 – Ma trận vuông: Là ma trận có số hàng và số cột bằng nhau. Sử dụng thư viện NumPy, hãy tạo ra một ma trận A ∈ R7×7, giá trị các phần tử của ma trận được sinh ngẫu nhiên. Kết quả xuất ra màn hình."
      ],
      "metadata": {
        "id": "-R0K1A-_m1gg"
      }
    },
    {
      "cell_type": "code",
      "source": [
        "A = np.random.randint(10,size=(7,7))\n",
        "print(A)"
      ],
      "metadata": {
        "id": "hEKrMLrpm2io"
      },
      "execution_count": null,
      "outputs": []
    },
    {
      "cell_type": "markdown",
      "source": [
        "Bài 4 – Ma trận chéo (diagonal matrix): Ma trận vuông có các phần tử trên đường chéo ai,i ≠ 0 trong khi các phần tử còn lại ai,j = 0, ∀i ≠ j. Sử dụng thư viện NumPy, hãy tạo một ma trận chéo A6×6 với phần tử nằm trên đường chéo có giá trị là 15. Gợi ý: sử dụng kết hợp hàm numpy.zeros() và numpy.fill_diagonal(). Kết quả xuất ra màn hình."
      ],
      "metadata": {
        "id": "jD5AckCiPIOb"
      }
    },
    {
      "cell_type": "code",
      "source": [
        "A = np.zeros((6,6),int)\n",
        "np.fill_diagonal(A,15)\n",
        "print(A)"
      ],
      "metadata": {
        "colab": {
          "base_uri": "https://localhost:8080/"
        },
        "id": "zhTqT3TmPP1a",
        "outputId": "260279f6-0765-453d-e4c3-cb443a15f30d"
      },
      "execution_count": 2,
      "outputs": [
        {
          "output_type": "stream",
          "name": "stdout",
          "text": [
            "[[15  0  0  0  0  0]\n",
            " [ 0 15  0  0  0  0]\n",
            " [ 0  0 15  0  0  0]\n",
            " [ 0  0  0 15  0  0]\n",
            " [ 0  0  0  0 15  0]\n",
            " [ 0  0  0  0  0 15]]\n"
          ]
        }
      ]
    },
    {
      "cell_type": "markdown",
      "source": [
        "Bài 5 – Ma trận tam giác trên (upper triangular matrix): Ma trận vuông An×n được gọi là ma trận tam giác trên nếu các phần tử nằm trên đường chéo đều khác 0 và các phần tử nằm dưới đường chéo đều bằng 0. Sử dụng thư viện NumPy, hãy tạo một ma trận tam giác trên A8×8. Gợi ý: sử dụng hàm numpy.triu(). Kết quả xuất ra màn hình."
      ],
      "metadata": {
        "id": "W4eIQJ0gPYJS"
      }
    },
    {
      "cell_type": "code",
      "source": [
        "a= np.random.randint(10,size=(8,8))\n",
        "b=np.triu(a,-1)\n",
        "print(b)"
      ],
      "metadata": {
        "colab": {
          "base_uri": "https://localhost:8080/"
        },
        "id": "__VnyweFPYj5",
        "outputId": "30251303-59ec-4e94-b4ea-56461c01ffcc"
      },
      "execution_count": 6,
      "outputs": [
        {
          "output_type": "stream",
          "name": "stdout",
          "text": [
            "[[0 2 0 2 2 1 0 9]\n",
            " [4 2 5 7 3 9 1 6]\n",
            " [0 7 8 8 6 6 9 2]\n",
            " [0 0 6 7 3 7 7 3]\n",
            " [0 0 0 7 6 5 1 6]\n",
            " [0 0 0 0 6 1 5 2]\n",
            " [0 0 0 0 0 1 2 1]\n",
            " [0 0 0 0 0 0 6 2]]\n"
          ]
        }
      ]
    },
    {
      "cell_type": "markdown",
      "source": [
        "Bài 6 – Ma trận tam giác dưới (lower triangular matrix): Tương tự bài 5, bạn hãy xây dựng ma trận tam giác dưới. Kết quả xuất ra màn hình."
      ],
      "metadata": {
        "id": "5CBti2k2PaPh"
      }
    },
    {
      "cell_type": "code",
      "source": [
        "a= np.random.randint(10,size=(8,8))\n",
        "b=np.tril(a)\n",
        "print(b)"
      ],
      "metadata": {
        "colab": {
          "base_uri": "https://localhost:8080/"
        },
        "id": "hzeForYzPcai",
        "outputId": "0713ee67-3ca2-4123-b559-56bf882f16e4"
      },
      "execution_count": 5,
      "outputs": [
        {
          "output_type": "stream",
          "name": "stdout",
          "text": [
            "[[9 0 0 0 0 0 0 0]\n",
            " [9 7 0 0 0 0 0 0]\n",
            " [4 1 4 0 0 0 0 0]\n",
            " [3 3 4 8 0 0 0 0]\n",
            " [9 4 0 8 7 0 0 0]\n",
            " [3 4 9 5 4 8 0 0]\n",
            " [6 2 7 0 2 5 7 0]\n",
            " [3 5 3 5 6 4 2 3]]\n"
          ]
        }
      ]
    },
    {
      "cell_type": "markdown",
      "source": [
        "Bài 7 – Ma trận đơn vị (identity matrix): Ma trận đơn vị In có số chiều n là một ma trận vuông mà mọi phần tử trên đường chéo chính bằng 1. Sử dụng thư viện NumPy, hãy tạo ra một ma trận I9 . Kết quả xuất ra màn hình. Gợi ý: sử dụng hàm numpy.identity()"
      ],
      "metadata": {
        "id": "xGRh1xQgPfHS"
      }
    },
    {
      "cell_type": "code",
      "source": [
        "a = np.identity(9)\n",
        "print(a)"
      ],
      "metadata": {
        "colab": {
          "base_uri": "https://localhost:8080/"
        },
        "id": "Upbh5viJPhRz",
        "outputId": "993f0483-9af0-4412-8bf4-cdcf1eec6233"
      },
      "execution_count": 4,
      "outputs": [
        {
          "output_type": "stream",
          "name": "stdout",
          "text": [
            "[[1. 0. 0. 0. 0. 0. 0. 0. 0.]\n",
            " [0. 1. 0. 0. 0. 0. 0. 0. 0.]\n",
            " [0. 0. 1. 0. 0. 0. 0. 0. 0.]\n",
            " [0. 0. 0. 1. 0. 0. 0. 0. 0.]\n",
            " [0. 0. 0. 0. 1. 0. 0. 0. 0.]\n",
            " [0. 0. 0. 0. 0. 1. 0. 0. 0.]\n",
            " [0. 0. 0. 0. 0. 0. 1. 0. 0.]\n",
            " [0. 0. 0. 0. 0. 0. 0. 1. 0.]\n",
            " [0. 0. 0. 0. 0. 0. 0. 0. 1.]]\n"
          ]
        }
      ]
    },
    {
      "cell_type": "markdown",
      "source": [
        "Bài 8 – Phép toán trên ma trận:#Hãy sinh ngẫu nhiên 2 ma trận có kích thước 6x7. Thực hiện phép cộng 2 ma trận trên. Xuất giá trị các ma trận ra màn hình."
      ],
      "metadata": {
        "id": "zAedvbjwPlJU"
      }
    },
    {
      "cell_type": "code",
      "source": [
        "a= np.random.randint(5,size=(6,7))    \n",
        "b= np.random.randint(5,size=(6,7))\n",
        "print(\"Ma trận thứ 1:\\n\",a)\n",
        "print(\"Ma trận thứ 2:\\n\",b)\n",
        "print(\"Tổng 2 ma trận:\\n\",a+b)"
      ],
      "metadata": {
        "colab": {
          "base_uri": "https://localhost:8080/"
        },
        "id": "smAV9BOJPoIC",
        "outputId": "278275ad-8bd2-46b7-dc78-8a04b367c234"
      },
      "execution_count": 3,
      "outputs": [
        {
          "output_type": "stream",
          "name": "stdout",
          "text": [
            "Ma trận thứ 1:\n",
            " [[3 0 3 4 0 4 4]\n",
            " [2 0 4 1 3 1 2]\n",
            " [1 1 1 1 3 3 1]\n",
            " [1 1 1 2 4 2 1]\n",
            " [4 0 1 2 2 1 0]\n",
            " [2 0 3 3 3 4 0]]\n",
            "Ma trận thứ 2:\n",
            " [[0 0 4 1 4 1 4]\n",
            " [2 1 1 3 3 4 4]\n",
            " [4 2 3 2 1 2 0]\n",
            " [4 0 3 3 1 1 0]\n",
            " [4 4 2 2 3 4 3]\n",
            " [4 3 2 2 1 2 1]]\n",
            "Tổng 2 ma trận:\n",
            " [[3 0 7 5 4 5 8]\n",
            " [4 1 5 4 6 5 6]\n",
            " [5 3 4 3 4 5 1]\n",
            " [5 1 4 5 5 3 1]\n",
            " [8 4 3 4 5 5 3]\n",
            " [6 3 5 5 4 6 1]]\n"
          ]
        }
      ]
    },
    {
      "cell_type": "markdown",
      "source": [
        "Hãy sinh ngẫu nhiên 1 ma trận có kích thước 5x8. Thực hiện nhân vô hướng 1 số được nhập từ bàn phím với ma trận này. Kết quả xuất ra màn hình."
      ],
      "metadata": {
        "id": "Vz7zWmu9PwQl"
      }
    },
    {
      "cell_type": "code",
      "source": [
        "x= np.random.randint(5,size=(5,8))    \n",
        "print(\"Ma trận ngẫu nhiên:\\n\",x)\n",
        "n= int(input(\"Mời nhập 1 số: \"))\n",
        "print(\"Tích vô hướng 1 số với ma  trận:\\n\", n*x)"
      ],
      "metadata": {
        "colab": {
          "base_uri": "https://localhost:8080/"
        },
        "id": "R6hfkFqgPyuJ",
        "outputId": "9c6b129b-76e4-438e-de97-b078b93e0a9e"
      },
      "execution_count": 7,
      "outputs": [
        {
          "output_type": "stream",
          "name": "stdout",
          "text": [
            "Ma trận ngẫu nhiên:\n",
            " [[3 0 2 2 4 4 3 0]\n",
            " [0 3 3 4 2 2 0 2]\n",
            " [0 3 0 4 2 0 4 3]\n",
            " [3 1 3 3 3 2 4 4]\n",
            " [3 3 0 2 4 4 2 0]]\n",
            "Mời nhập 1 số: 5\n",
            "Tích vô hướng 1 số với ma  trận:\n",
            " [[15  0 10 10 20 20 15  0]\n",
            " [ 0 15 15 20 10 10  0 10]\n",
            " [ 0 15  0 20 10  0 20 15]\n",
            " [15  5 15 15 15 10 20 20]\n",
            " [15 15  0 10 20 20 10  0]]\n"
          ]
        }
      ]
    },
    {
      "cell_type": "markdown",
      "source": [
        "Phép chuyển vị ma trận: Sinh ngẫu nhiên một ma trận có kích thước 3x7. Thực hiện phép chuyển vị đối với ma trận này. Xuất các ma trận này ra màn hình."
      ],
      "metadata": {
        "id": "7UEmiHL3P3lb"
      }
    },
    {
      "cell_type": "code",
      "source": [
        "y= np.random.randint(5, size = (3,7))\n",
        "print(\"Ma trận được tạo ngẫu nhiên:\\n\",y)\n",
        "t=np.transpose(y)\n",
        "print(\"Ma trận sau khi được chuyển vị:\\n\",t)"
      ],
      "metadata": {
        "colab": {
          "base_uri": "https://localhost:8080/"
        },
        "id": "U1p_KHQzP5Ny",
        "outputId": "1fcd4edd-0f30-4e10-a580-44c6adb81b72"
      },
      "execution_count": 8,
      "outputs": [
        {
          "output_type": "stream",
          "name": "stdout",
          "text": [
            "Ma trận được tạo ngẫu nhiên:\n",
            " [[4 1 1 2 2 4 2]\n",
            " [4 4 0 3 2 0 0]\n",
            " [1 2 0 1 0 1 1]]\n",
            "Ma trận sau khi được chuyển vị:\n",
            " [[4 4 1]\n",
            " [1 4 2]\n",
            " [1 0 0]\n",
            " [2 3 1]\n",
            " [2 2 0]\n",
            " [4 0 1]\n",
            " [2 0 1]]\n"
          ]
        }
      ]
    },
    {
      "cell_type": "markdown",
      "source": [
        "Phép nhân 2 ma trận: Am×n ∙ Bn×p = Cm×p. Hãy sinh ngẫu nhiên 2 ma trận A5×7 và B7×3, tiến hành nhân 2 ma trận này để thu được ma trận C5×3. Xuất các ma trận trên ra màn hình. Gợi ý: sử dụng hàm numpy.dot()"
      ],
      "metadata": {
        "id": "09FicNxVP7aB"
      }
    },
    {
      "cell_type": "code",
      "source": [
        "a= np.random.randint(5,size=(5,7))\n",
        "b= np.random.randint(5,size=(7,3))\n",
        "print(\"Tích 2 ma trận :\\n\", np.dot(a,b))"
      ],
      "metadata": {
        "colab": {
          "base_uri": "https://localhost:8080/"
        },
        "id": "3a8U_BOoQAED",
        "outputId": "b4fc6538-eab5-41fd-d797-adb9f15d7b27"
      },
      "execution_count": 9,
      "outputs": [
        {
          "output_type": "stream",
          "name": "stdout",
          "text": [
            "Tích 2 ma trận :\n",
            " [[38 36 40]\n",
            " [26 38 46]\n",
            " [34 28 40]\n",
            " [30 24 32]\n",
            " [28 30 36]]\n"
          ]
        }
      ]
    },
    {
      "cell_type": "markdown",
      "source": [
        "Cho ma trận A5×7, hãy tính ma trận khả nghịch của A. Gợi ý: sử dụng hàm numpy.linalg.inv()"
      ],
      "metadata": {
        "id": "za0htFT3QCay"
      }
    },
    {
      "cell_type": "code",
      "source": [
        "a= np.random.randint(5,size=(5,5))\n",
        "print(\"Ma trận lúc đầu: \\n\",a)\n",
        "b= np.linalg.inv(a)\n",
        "print(\"Ma trận khả nghịch: \\n\",b)"
      ],
      "metadata": {
        "colab": {
          "base_uri": "https://localhost:8080/"
        },
        "id": "D0mtLMKOQEea",
        "outputId": "1c8ba712-9f06-4600-f9da-2b04f62a830c"
      },
      "execution_count": 10,
      "outputs": [
        {
          "output_type": "stream",
          "name": "stdout",
          "text": [
            "Ma trận lúc đầu: \n",
            " [[3 4 2 4 4]\n",
            " [3 2 2 4 0]\n",
            " [1 3 0 3 4]\n",
            " [1 0 4 1 3]\n",
            " [4 2 2 3 4]]\n",
            "Ma trận khả nghịch: \n",
            " [[ 0.10576923 -0.08653846 -0.32692308 -0.19230769  0.36538462]\n",
            " [ 0.88461538 -0.26923077 -0.46153846 -0.15384615 -0.30769231]\n",
            " [ 0.28365385 -0.00480769 -0.24038462  0.21153846 -0.20192308]\n",
            " [-0.66346154  0.45192308  0.59615385  0.11538462 -0.01923077]\n",
            " [-0.19230769 -0.11538462  0.23076923  0.07692308  0.15384615]]\n"
          ]
        }
      ]
    },
    {
      "cell_type": "markdown",
      "source": [
        "Bài 9 – Vector là dạng ma trận đặc biệt: Sử dụng numpy để thực hiện các yêu cầu sau\n",
        "\n",
        "*   Vector hàng (row vector) thực chất là ma trận có kích thước 1 × n. Hãy tạo ngẫu nhiên 1 vector hàng - x có kích thước 1 × 8. Kết quả xuất ra màn hình.\n",
        "*   Vector cột (column vector) thực chất là ma trận có kích thước m × 1. Hãy tạo ngẫu nhiên 1 vector cột – x có kích thước 8 × 1. Kết quả xuất ra màn hình.\n",
        "\n"
      ],
      "metadata": {
        "id": "AhSLeT7wQGPq"
      }
    },
    {
      "cell_type": "code",
      "source": [
        "a = np.random.randint(5,size=(1,8))\n",
        "print(a)\n",
        "b= np.random.randint(5,size=(8,1))\n",
        "print(b)"
      ],
      "metadata": {
        "colab": {
          "base_uri": "https://localhost:8080/"
        },
        "id": "YMXY-_kcQPq5",
        "outputId": "2d112243-a448-49df-8894-adb6b171a301"
      },
      "execution_count": 11,
      "outputs": [
        {
          "output_type": "stream",
          "name": "stdout",
          "text": [
            "[[0 0 0 0 1 3 1 1]]\n",
            "[[2]\n",
            " [0]\n",
            " [0]\n",
            " [2]\n",
            " [1]\n",
            " [3]\n",
            " [3]\n",
            " [2]]\n"
          ]
        }
      ]
    }
  ]
}